{
 "cells": [
  {
   "cell_type": "code",
   "execution_count": 1,
   "metadata": {},
   "outputs": [],
   "source": [
    "import torch \n",
    "from scipy import stats \n",
    "from torchvision.models import alexnet, resnet18, mobilenet_v3_small\n",
    "import numpy as np\n",
    "import matplotlib.pyplot as plt"
   ]
  },
  {
   "cell_type": "code",
   "execution_count": null,
   "metadata": {},
   "outputs": [],
   "source": [
    "# model = mobilenet_v3_small(pretrained=True)\n",
    "model = resnet18(pretrained=True)"
   ]
  },
  {
   "cell_type": "code",
   "execution_count": null,
   "metadata": {},
   "outputs": [],
   "source": [
    "def plot_hist_conv_linear(model,save_fig=False,plt_show=True,model_name=None):\n",
    "    layers = {}\n",
    "    weights = {}\n",
    "    counter = 0\n",
    "    if model_name == None:\n",
    "        model_name = model.__class__.__name__\n",
    "    else:\n",
    "        model_name= model_name\n",
    "    for layer in model.modules():\n",
    "        if isinstance(layer, torch.nn.Conv2d):\n",
    "            layers[layer.__class__.__name__ + \"_\" + str(counter)] = \"x\".join(map(str, layer.weight.shape))\n",
    "            weights[layer.__class__.__name__ + \"_\" + str(counter)] = layer.weight.cpu().detach().numpy().flatten()\n",
    "\n",
    "        if isinstance(layer, torch.nn.Linear):\n",
    "            layers[layer.__class__.__name__ + \"_\" + str(counter)] = \"x\".join(map(str, layer.weight.shape))\n",
    "            weights[layer.__class__.__name__ + \"_\" + str(counter)] = layer.weight.cpu().detach().numpy().flatten()\n",
    "        if isinstance(layer,torch.nn.Conv2d) or isinstance(layer,torch.nn.Conv2d):\n",
    "            counter += 1\n",
    "    for idx, params in weights.items():\n",
    "        (mean_fitted, std_fitted) = stats.norm.fit(params)\n",
    "        x = np.linspace(min(params), max(params), 600)\n",
    "        weight_guass_fit = stats.norm.pdf(x, loc=mean_fitted, scale=std_fitted)\n",
    "        n, bins, patchers = plt.hist(params, histtype='stepfilled',\n",
    "                                     cumulative=False, bins=600, density=True)\n",
    "\n",
    "        plt.plot(x, weight_guass_fit, label='guess')\n",
    "        plt.title(idx + \" : \" + layers[idx])\n",
    "        plt.legend()\n",
    "        if save_fig == True:\n",
    "            figure_name = creating_path(\"reports\",\"filters\",\"distrbutions\",model_name,file_name=idx + \"__\" + layers[idx],extension='png')\n",
    "            plt.savefig(figure_name, dpi=150, bbox_inces='tight')\n",
    "        if plt_show == True:\n",
    "            plt.show()"
   ]
  },
  {
   "cell_type": "code",
   "execution_count": null,
   "metadata": {},
   "outputs": [],
   "source": [
    "plot_hist_conv_linear(model,save_fig=False,plt_show=True,model_name=None)"
   ]
  }
 ],
 "metadata": {
  "kernelspec": {
   "display_name": "Python 3.9.7 ('base')",
   "language": "python",
   "name": "python3"
  },
  "language_info": {
   "codemirror_mode": {
    "name": "ipython",
    "version": 3
   },
   "file_extension": ".py",
   "mimetype": "text/x-python",
   "name": "python",
   "nbconvert_exporter": "python",
   "pygments_lexer": "ipython3",
   "version": "3.9.7"
  },
  "orig_nbformat": 4,
  "vscode": {
   "interpreter": {
    "hash": "5746c25b7b74446175bc9c8ea4c1ecc73de83c3c81fd008af85f644bbffb3cfe"
   }
  }
 },
 "nbformat": 4,
 "nbformat_minor": 2
}
